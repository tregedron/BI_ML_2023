{
 "cells": [
  {
   "cell_type": "markdown",
   "metadata": {
    "colab_type": "text",
    "id": "view-in-github"
   },
   "source": [
    "<a href=\"https://colab.research.google.com/github/danon6868/BI-ml-course/blob/main/lecture_8_neural_networks_part2/homework/FC_NN_practice.ipynb\" target=\"_parent\"><img src=\"https://colab.research.google.com/assets/colab-badge.svg\" alt=\"Open In Colab\"/></a>"
   ]
  },
  {
   "cell_type": "markdown",
   "metadata": {
    "id": "-pSGPQS8Btmc"
   },
   "source": [
    "Всем привет! Сегодня вы впервые попробуете написать свою собственную нейронную сеть и попробовать ее обучить. Мы будем работать с картинками, но пока что не совсем тем способом, которым лучше всего это делать, но должно получиться неплохо.\n",
    "\n",
    "Будем работать с [датасетом](https://github.com/rois-codh/kmnist) `Kuzushiji-MNIST` (`KMNIST`). Это рукописные буквы, изображения имеют размер (28, 28, 1) и разделены на 10 классов, по ссылке можно прочитать подробнее."
   ]
  },
  {
   "cell_type": "code",
   "execution_count": 1,
   "metadata": {
    "id": "75HVAP_RFU7r"
   },
   "outputs": [],
   "source": [
    "import numpy as np\n",
    "import torch\n",
    "import matplotlib.pyplot as plt\n",
    "from IPython.display import clear_output"
   ]
  },
  {
   "cell_type": "markdown",
   "metadata": {
    "id": "46iQ8ixtEruP"
   },
   "source": [
    "## Загрузка данных"
   ]
  },
  {
   "cell_type": "markdown",
   "metadata": {
    "id": "R6h1jVreJlV-"
   },
   "source": [
    "Сейчас мы будем использовать встроенные данные, но в реальности приходится писать свой класс для датасета (Dataset), у которого реализовывать несколько обязательных методов (напр, `__getitem__`), но это обсудим уже потом."
   ]
  },
  {
   "cell_type": "code",
   "execution_count": 2,
   "metadata": {
    "id": "s9L9Z02o_1bK"
   },
   "outputs": [],
   "source": [
    "import torchvision\n",
    "from torchvision.datasets import KMNIST\n",
    "\n",
    "\n",
    "# Превращает картинки в тензоры\n",
    "transform = torchvision.transforms.Compose(\n",
    "    [torchvision.transforms.ToTensor()])\n",
    "\n",
    "# Загрузим данные (в переменных лежат объекты типа `Dataset`)\n",
    "# В аргумент `transform` мы передаем необходимые трансформации (ToTensor)\n",
    "trainset = KMNIST(root=\"./KMNIST\", train=True, download=True, transform=transform)\n",
    "testset = KMNIST(root=\"./KMNIST\", train=False, download=True, transform=transform)\n",
    "\n",
    "clear_output()"
   ]
  },
  {
   "cell_type": "markdown",
   "metadata": {
    "id": "V83E2vDrO9CC"
   },
   "source": [
    "Определим даталоадеры, они нужны, чтобы реализовывать стохастический градиентный спуск (то есть мы не хотим считывать в оперативную память все картинки сразу, а делать это батчами)."
   ]
  },
  {
   "cell_type": "code",
   "execution_count": 3,
   "metadata": {
    "id": "oqC8XO8pO8Px"
   },
   "outputs": [],
   "source": [
    "from torch.utils.data import DataLoader\n",
    "\n",
    "\n",
    "# Можно оставить таким\n",
    "batch_size = 1024\n",
    "\n",
    "trainloader = DataLoader(trainset, batch_size=batch_size, shuffle=True, num_workers=2)\n",
    "testloader = DataLoader(testset, batch_size=batch_size, shuffle=False, num_workers=2)"
   ]
  },
  {
   "cell_type": "markdown",
   "metadata": {
    "id": "-Ntp5sLoPyGx"
   },
   "source": [
    "Подумайте, как может влиять на скорость обучения параметр `batch_size`, почему вы так считаете?\n",
    "\n",
    "**Ответ:**"
   ]
  },
  {
   "cell_type": "markdown",
   "metadata": {},
   "source": [
    "Вроде как, в теории мы должны учиться быстрее. У нас есть задача минимизации на простраснтве признаков с некоторой целевой переменной (например, средний квадрат отклонения). Мы хотим по этому простраснтву двигаться с помощью градиентного спуска. Перебор по одному объекту может приводить к странному движению в пространстве признаков. Когда мы берём большой батч, мы будем уверенными шагами в среднем двигаться к правильному минимуму целевой переменной. Поэтому кажется, что учимся мы так быстрее)"
   ]
  },
  {
   "cell_type": "markdown",
   "metadata": {
    "id": "t2vmM4KaHvrs"
   },
   "source": [
    "Посмотрим на какую-нибудь картинку:"
   ]
  },
  {
   "cell_type": "code",
   "execution_count": 4,
   "metadata": {
    "colab": {
     "base_uri": "https://localhost:8080/",
     "height": 266
    },
    "id": "N-b-kFCYAoOP",
    "outputId": "d077a35b-f874-40c2-e1da-1f461c11172f"
   },
   "outputs": [
    {
     "data": {
      "image/png": "[encoded data removed]",
      "text/plain": [
       "<Figure size 640x480 with 1 Axes>"
      ]
     },
     "metadata": {},
     "output_type": "display_data"
    }
   ],
   "source": [
    "plt.imshow(trainset[0][0].view(28, 28).numpy(), cmap=\"gray\")\n",
    "plt.axis(\"off\")\n",
    "plt.title(f\"Class is {trainset[0][1]}\", fontsize=16);"
   ]
  },
  {
   "cell_type": "markdown",
   "metadata": {
    "id": "8_MSY231Hzz9"
   },
   "source": [
    "### Задание 1. Смотрим на картинки\n",
    "\n",
    "**2** балла\n",
    "\n",
    "Нарисуйте на одном графике изображения всех 10 классов:"
   ]
  },
  {
   "cell_type": "markdown",
   "metadata": {
    "id": "j0tNdHM5JS6l"
   },
   "source": [
    "⣿⣿⣿⣿⣿⣿⠿⢋⣥⣴⣶⣶⣶⣬⣙⠻⠟⣋⣭⣭⣭⣭⡙⠻⣿⣿⣿⣿⣿\n",
    "⣿⣿⣿⣿⡿⢋⣴⣿⣿⠿⢟⣛⣛⣛⠿⢷⡹⣿⣿⣿⣿⣿⣿⣆⠹⣿⣿⣿⣿\n",
    "⣿⣿⣿⡿⢁⣾⣿⣿⣴⣿⣿⣿⣿⠿⠿⠷⠥⠱⣶⣶⣶⣶⡶⠮⠤⣌⡙⢿⣿\n",
    "⣿⡿⢛⡁⣾⣿⣿⣿⡿⢟⡫⢕⣪⡭⠥⢭⣭⣉⡂⣉⡒⣤⡭⡉⠩⣥⣰⠂⠹\n",
    "⡟⢠⣿⣱⣿⣿⣿⣏⣛⢲⣾⣿⠃⠄⠐⠈⣿⣿⣿⣿⣿⣿⠄⠁⠃⢸⣿⣿⡧\n",
    "⢠⣿⣿⣿⣿⣿⣿⣿⣿⣇⣊⠙⠳⠤⠤⠾⣟⠛⠍⣹⣛⣛⣢⣀⣠⣛⡯⢉⣰\n",
    "⣿⣿⣿⣿⣿⣿⣿⣿⣿⣿⣿⣿⣷⡶⠶⢒⣠⣼⣿⣿⣛⠻⠛⢛⣛⠉⣴⣿⣿\n",
    "⣿⣿⣿⣿⣿⣿⣿⡿⢛⡛⢿⣿⣿⣶⣿⣿⣿⣿⣿⣿⣿⣿⣿⣿⣿⣷⡈⢿⣿\n",
    "⣿⣿⣿⣿⣿⣿⣿⠸⣿⡻⢷⣍⣛⠻⠿⠿⣿⣿⣿⣿⣿⣿⣿⣿⣿⠿⢇⡘⣿\n",
    "⣿⣿⣿⣿⣿⣿⣿⣷⣝⠻⠶⣬⣍⣛⣛⠓⠶⠶⠶⠤⠬⠭⠤⠶⠶⠞⠛⣡⣿\n",
    "⢿⣿⣿⣿⣿⣿⣿⣿⣿⣿⣷⣶⣬⣭⣍⣙⣛⣛⣛⠛⠛⠛⠿⠿⠿⠛⣠⣿⣿\n",
    "⣦⣈⠉⢛⠻⠿⠿⢿⣿⣿⣿⣿⣿⣿⣿⣿⣿⣿⣿⡿⠿⠛⣁⣴⣾⣿⣿⣿⣿\n",
    "⣿⣿⣿⣶⣮⣭⣁⣒⣒⣒⠂⠠⠬⠭⠭⠭⢀⣀⣠⣄⡘⠿⣿⣿⣿⣿⣿⣿⣿\n",
    "⣿⣿⣿⣿⣿⣿⣿⣿⣿⣿⣿⣿⣿⣿⣿⣿⣿⣿⣿⣿⣿⣦⡈⢿⣿⣿⣿⣿⣿\n",
    "\n",
    "\n",
    "\n"
   ]
  },
  {
   "cell_type": "markdown",
   "metadata": {},
   "source": [
    "Сделаем по-простому. Будем бежать по данным, проверяя какой у них класс, когда будем встречать класс, которого ещё не было, докидываем индекс этого объекта в вывод и продолжаем, рано или поздно мы найдём все 10 классов. Выведем вывод)"
   ]
  },
  {
   "cell_type": "code",
   "execution_count": 5,
   "metadata": {},
   "outputs": [
    {
     "name": "stdout",
     "output_type": "stream",
     "text": [
      "[0, 1, 2, 3, 4, 5, 6, 7, 8, 9]\n",
      "to show: [index, class]  [[0, 8], [1, 7], [2, 0], [3, 1], [4, 4], [5, 2], [10, 5], [15, 6], [18, 9], [21, 3]]\n"
     ]
    },
    {
     "data": {
      "image/png": "[encoded data removed]",
      "text/plain": [
       "<Figure size 640x480 with 10 Axes>"
      ]
     },
     "metadata": {},
     "output_type": "display_data"
    }
   ],
   "source": [
    "idx_to_show = []\n",
    "classes_to_add = list(range(10))\n",
    "print(classes_to_add)\n",
    "for i, obj in enumerate(trainset):\n",
    "    if obj[1] in classes_to_add:\n",
    "        idx_to_show.append([i, obj[1]])\n",
    "        classes_to_add.pop(classes_to_add.index(obj[1]))\n",
    "print(\"to show: [index, class] \", idx_to_show)\n",
    "idx_to_show = sorted(idx_to_show, key=lambda x: (x[1]))\n",
    "\n",
    "rows =5\n",
    "cols =2\n",
    "f, axarr = plt.subplots(rows,cols)\n",
    "f.tight_layout()\n",
    "for i in range(0,cols):\n",
    "    for j in range(0,rows):\n",
    "        axarr[j,i].imshow(trainset[idx_to_show[i*5+j][0]][0].view(28, 28).numpy(), cmap=\"gray\")\n",
    "        axarr[j,i].axis(\"off\")\n",
    "        axarr[j,i].title.set_text(f\"Class is {trainset[idx_to_show[i*5+j][0]][1]}\")"
   ]
  },
  {
   "cell_type": "markdown",
   "metadata": {
    "id": "dLCfnFW-JtGx"
   },
   "source": [
    "### Задание 2. Строим свой первый MLP\n",
    "\n",
    "**4** балла\n",
    "\n",
    "MLP (multilayer perceptron) или нейронная сеть из полносвязных (линейных) слоев, это мы уже знаем.\n",
    "\n",
    "Опишите структуру сети: 3 полносвязных слоя + функции активации на ваш выбор. **Подумайте** про активацию после последнего слоя!\n",
    "\n",
    "Сеть на выходе 1 слоя должна иметь 256 признаков, на выходе из 2 128 признаков, на выходе из последнего столько, сколько у вас классов.\n",
    " \n",
    "https://pytorch.org/docs/stable/nn.html?highlight=activation#non-linear-activations-weighted-sum-nonlinearity"
   ]
  },
  {
   "cell_type": "code",
   "execution_count": 81,
   "metadata": {
    "id": "dhYBvQIXJdSz"
   },
   "outputs": [],
   "source": [
    "import torch.nn as nn\n",
    "import torch.nn.functional as F\n",
    "\n",
    "class FCNet(nn.Module):\n",
    "    def __init__(self):\n",
    "        super().__init__() #  это надо помнить!\n",
    "        input_size = 28*28\n",
    "        self.fc1 = nn.Linear(input_size, 256)\n",
    "        self.fc2 = nn.Linear(256, 128)\n",
    "        self.fc3 = nn.Linear(128, 10)\n",
    "        \n",
    "\n",
    "    def forward(self, x):  # Forward вызывается внутри метода __call__ родительского класса\n",
    "        ## x -> тензор размерности (BATCH_SIZE, N_CHANNELS, WIDTH, HEIGHT)\n",
    "        ## надо подумать над тем, что у нас полносвязные слои принимают векторы\n",
    "        \n",
    "        x = x.view(-1, 28*28)\n",
    "        x = F.relu(self.fc1(x))\n",
    "        x = F.relu(self.fc2(x))\n",
    "        x = self.fc3(x)\n",
    "        logits = x\n",
    "        \n",
    "        return logits\n",
    "    \n",
    "class FCNet_ReluAtEnd(nn.Module):\n",
    "    def __init__(self):\n",
    "        super().__init__() #  это надо помнить!\n",
    "        input_size = 28*28\n",
    "        self.fc1 = nn.Linear(input_size, 256)\n",
    "        self.fc2 = nn.Linear(256, 128)\n",
    "        self.fc3 = nn.Linear(128, 10)\n",
    "        \n",
    "\n",
    "    def forward(self, x):  # Forward вызывается внутри метода __call__ родительского класса\n",
    "        ## x -> тензор размерности (BATCH_SIZE, N_CHANNELS, WIDTH, HEIGHT)\n",
    "        ## надо подумать над тем, что у нас полносвязные слои принимают векторы\n",
    "        \n",
    "        x = x.view(-1, 28*28)\n",
    "        x = F.relu(self.fc1(x))\n",
    "        x = F.relu(self.fc2(x))\n",
    "        x = F.relu(self.fc3(x))\n",
    "        logits = x\n",
    "        \n",
    "        return logits"
   ]
  },
  {
   "cell_type": "markdown",
   "metadata": {
    "id": "uI0R77EQNKef"
   },
   "source": [
    "Сколько обучаемых параметров у вашей модели (весов и смещений)?\n",
    "\n",
    "**Ответ:**"
   ]
  },
  {
   "cell_type": "markdown",
   "metadata": {
    "id": "MvGiuoykrzzJ"
   },
   "source": [
    "(28 * 28 * 256 + 256 * 128 + 128 * 10) + (256 + 128 + 10) = 235146 //\n",
    "(веса) + (смещения) = ответ"
   ]
  },
  {
   "cell_type": "markdown",
   "metadata": {},
   "source": [
    "Подумаем про активацию после последнего слоя. CrossEntropyLoss принимает на вход ненормированную штуку: \"The input is expected to contain the unnormalized logits for each class (which do not need to be positive or sum to 1, in general).\". То есть в принципе ему туда можно скормить ненормированный выход, применение софтмакса или чего-то такого не является необходимым. Также было протестировано, что если поставить на выход, например, F.relu(x), то результат станет значительно хуже. "
   ]
  },
  {
   "cell_type": "markdown",
   "metadata": {
    "id": "iwGllji2M4lp"
   },
   "source": [
    "### Задание 3. Напишите код для обучения модели\n",
    "\n",
    "**5** баллов\n",
    "\n",
    "Можно (и нужно) подглядывать в код семинара по пайторчу. Вам нужно создать модель, определить функцию потерь и оптимизатор (начнем с `SGD`). Дальше нужно обучать модель, при помощи тренировочного `Dataloader'a` и считать лосс на тренировочном и тестовом `Dataloader'ах`."
   ]
  },
  {
   "cell_type": "markdown",
   "metadata": {
    "id": "Grv9xcybRfCX"
   },
   "source": [
    "Напишем функцию для рассчета `accuracy`:"
   ]
  },
  {
   "cell_type": "code",
   "execution_count": 7,
   "metadata": {
    "id": "9D2QPFe5JdVc"
   },
   "outputs": [],
   "source": [
    "def get_accuracy(model, dataloader):\n",
    "    \"\"\"\n",
    "    model - обученная нейронная сеть\n",
    "    dataloader - даталоадер, на котором вы хотите посчитать accuracy\n",
    "    \"\"\"\n",
    "    correct = 0\n",
    "    total = 0\n",
    "    with torch.no_grad(): # Тензоры внутри этого блока будут иметь requires_grad=False\n",
    "        for images, labels in dataloader:\n",
    "            outputs = model(images)\n",
    "            _, predicted = torch.max(outputs.data, 1)\n",
    "            total += labels.size(0)\n",
    "            correct += (predicted == labels).sum().item()\n",
    "    accuracy = correct / total\n",
    "    \n",
    "    return accuracy"
   ]
  },
  {
   "cell_type": "markdown",
   "metadata": {
    "id": "D3EmoWJyTBkE"
   },
   "source": [
    "#### Основной цикл обучения\n",
    "\n",
    "Этот код можно (и зачастую нужно) выносить в отдельную функцию, но пока что можете это не делать, все по желанию)"
   ]
  },
  {
   "cell_type": "code",
   "execution_count": 8,
   "metadata": {
    "id": "uIZKSOdgUi3e"
   },
   "outputs": [
    {
     "name": "stdout",
     "output_type": "stream",
     "text": [
      "FCNet(\n",
      "  (fc1): Linear(in_features=784, out_features=256, bias=True)\n",
      "  (fc2): Linear(in_features=256, out_features=128, bias=True)\n",
      "  (fc3): Linear(in_features=128, out_features=10, bias=True)\n",
      ")\n"
     ]
    }
   ],
   "source": [
    "# Создадим объект модели\n",
    "fc_net = FCNet()\n",
    "fc_net_ReluAtEnd = FCNet_ReluAtEnd()\n",
    "print(fc_net)\n",
    "# Определим функцию потерь\n",
    "loss_function = nn.CrossEntropyLoss()\n",
    "# Создадим оптимизатор для нашей сети\n",
    "lr = 0.001 # скорость обучения\n",
    "optimizer = torch.optim.Adam(fc_net.parameters(), lr=3e-4)\n",
    "optimizer_ReluAtEnd = torch.optim.Adam(fc_net_ReluAtEnd.parameters(), lr=3e-4)"
   ]
  },
  {
   "cell_type": "markdown",
   "metadata": {
    "id": "uKYzXFqoX_fd"
   },
   "source": [
    "Напишите цикл обучения. Для начала хватит 10 эпох. Какое значение `accuracy` на тестовой выборке удалось получить?"
   ]
  },
  {
   "cell_type": "code",
   "execution_count": 9,
   "metadata": {
    "id": "Ma2bshC6MxI6"
   },
   "outputs": [
    {
     "name": "stdout",
     "output_type": "stream",
     "text": [
      "Epoch=1 loss=1.5886\n",
      "Epoch=2 loss=0.6979\n",
      "Epoch=3 loss=0.5286\n",
      "Epoch=4 loss=0.4543\n",
      "Epoch=5 loss=0.4029\n",
      "Epoch=6 loss=0.3657\n",
      "Epoch=7 loss=0.3337\n",
      "Epoch=8 loss=0.3096\n",
      "Epoch=9 loss=0.2855\n",
      "Epoch=10 loss=0.2659\n",
      "With Relu: Epoch=1 loss=1.7167\n",
      "With Relu: Epoch=2 loss=0.8178\n",
      "With Relu: Epoch=3 loss=0.6355\n",
      "With Relu: Epoch=4 loss=0.5454\n",
      "With Relu: Epoch=5 loss=0.4852\n",
      "With Relu: Epoch=6 loss=0.4390\n",
      "With Relu: Epoch=7 loss=0.4041\n",
      "With Relu: Epoch=8 loss=0.3755\n",
      "With Relu: Epoch=9 loss=0.3519\n",
      "With Relu: Epoch=10 loss=0.3278\n"
     ]
    }
   ],
   "source": [
    "n_epochs = 10\n",
    "loss_history = []\n",
    "loss_history_ReluAtEnd = []\n",
    "\n",
    "## YOUR CODE HERE\n",
    "for epoch in range(n_epochs):\n",
    "    epoch_loss = 0\n",
    "    for images, labels in trainloader:\n",
    "        optimizer.zero_grad()\n",
    "        outputs = fc_net(images)\n",
    "        loss = loss_function(outputs, labels)\n",
    "        loss.backward()\n",
    "        optimizer.step()\n",
    "        epoch_loss += loss.item()\n",
    "        \n",
    "    loss_history.append(epoch_loss/len(trainloader))\n",
    "\n",
    "    print(f\"Epoch={epoch+1} loss={loss_history[epoch]:.4f}\")\n",
    "    \n",
    "    \n",
    "## Chech with Relu at End\n",
    "for epoch in range(n_epochs):\n",
    "    epoch_loss = 0\n",
    "    for images, labels in trainloader:\n",
    "        optimizer_ReluAtEnd.zero_grad()\n",
    "        outputs = fc_net_ReluAtEnd(images)\n",
    "        loss = loss_function(outputs, labels)\n",
    "        loss.backward()\n",
    "        optimizer_ReluAtEnd.step()\n",
    "        epoch_loss += loss.item()\n",
    "        \n",
    "    loss_history_ReluAtEnd.append(epoch_loss/len(trainloader))\n",
    "\n",
    "    print(f\"With Relu: Epoch={epoch+1} loss={loss_history_ReluAtEnd[epoch]:.4f}\")\n"
   ]
  },
  {
   "cell_type": "code",
   "execution_count": 10,
   "metadata": {
    "id": "2cB5LRbrS3BN"
   },
   "outputs": [
    {
     "name": "stdout",
     "output_type": "stream",
     "text": [
      "Acc without relu at the end 0.8183\n",
      "Acc with relu at the end 0.8053\n"
     ]
    }
   ],
   "source": [
    "Acc_withoutRelu = get_accuracy(fc_net, testloader)\n",
    "Acc_withRelu = get_accuracy(fc_net_ReluAtEnd, testloader)\n",
    "print(\"Acc without relu at the end\", Acc_withoutRelu)\n",
    "print(\"Acc with relu at the end\", Acc_withRelu)"
   ]
  },
  {
   "cell_type": "markdown",
   "metadata": {},
   "source": [
    "Неприменение нелинейности Relu на последнем слое качественно улучшает результат. Наверное, можно попробовать объяснить такой эффект соображениями переведения в 0 всех отрацительных значений на выходе из нейросети. Всё, что имело бы околонулевые вероятности после softmax, поднимает вероятности до каких-то средних значений. И там, где сеть не имеет выраженного кандидата на ответ она ошибается... "
   ]
  },
  {
   "cell_type": "markdown",
   "metadata": {
    "id": "4HTJzBM8Yk1R"
   },
   "source": [
    "### Задание 4. Изучение влияния нормализации\n",
    "\n",
    "**3** балла\n",
    "\n",
    "Вы могли заметить, что мы забыли провести нормализацию наших данных, а для нейронных сетей это может быть очень критично.\n",
    "\n",
    "Нормализуйте данные.\n",
    "\n",
    "* Подсчитайте среднее значение и стандартное отклонение интенсивности пикселей для всех тренировочных данных\n",
    "* Нормализуйте данные с использованием этих параметров (используйте трансформацию `Normalize`)\n",
    "\n",
    "\n",
    "Оцените влияние нормировки данных."
   ]
  },
  {
   "cell_type": "markdown",
   "metadata": {},
   "source": [
    "Пусть N - число картинок, n - число пикселдей на картинке. Тогда:\n",
    "$x_{avg} = \\frac{1}{N * n} \\sum_1^{N * n} x_i = \\frac{1}{N} \\sum_1^{N} (\\frac{1}{n} \\sum_1^{n} x_i)$ Среднее посчитаем как среднее средней интенсивности на картинке. Примерно также расправляемся со среднеквадратичным отклонением:\n",
    "$x_{std}^2 = \\frac{1}{N * n} \\sum_1^{N * n} (x_i - x_{avg})^{2} = = \\frac{1}{N} \\sum_1^{N} (\\frac{1}{n} \\sum_1^{n} (x_i - x_{avg})^{2})$  \n"
   ]
  },
  {
   "cell_type": "code",
   "execution_count": 11,
   "metadata": {},
   "outputs": [
    {
     "name": "stdout",
     "output_type": "stream",
     "text": [
      "0.19176215\n"
     ]
    }
   ],
   "source": [
    "mean=0\n",
    "trainset_avg = np.asarray([obj[0].mean() for obj in trainset])\n",
    "mean = trainset_avg.mean()\n",
    "print(mean)"
   ]
  },
  {
   "cell_type": "code",
   "execution_count": 12,
   "metadata": {},
   "outputs": [
    {
     "name": "stdout",
     "output_type": "stream",
     "text": [
      "0.3483428390284319\n"
     ]
    }
   ],
   "source": [
    "import math\n",
    "std = 0\n",
    "# заготавливаем массив из квадратов отклоениня по пикселям\n",
    "trainset_std = np.asarray([((obj[0]-mean)**2).mean() for obj in trainset])\n",
    "# переводим его в средний квадраит отклонения по картинке\n",
    "trainset_std = np.asarray([obj.mean() for obj in trainset_std])\n",
    "# усредняем по всем картинкам\n",
    "std = math.sqrt(trainset_std.mean())\n",
    "print(std)"
   ]
  },
  {
   "cell_type": "code",
   "execution_count": 13,
   "metadata": {
    "id": "FHlDaYWGR6YA"
   },
   "outputs": [
    {
     "name": "stdout",
     "output_type": "stream",
     "text": [
      "0.19176215 0.3483428390284319\n"
     ]
    }
   ],
   "source": [
    "print(mean, std)\n",
    "\n",
    "transform_with_norm = torchvision.transforms.Compose([\n",
    "                torchvision.transforms.ToTensor(),\n",
    "                torchvision.transforms.Normalize(mean, std)\n",
    "            ])\n",
    "\n",
    "trainset.transform = transform_with_norm \n",
    "testset.transform = transform_with_norm"
   ]
  },
  {
   "cell_type": "code",
   "execution_count": 55,
   "metadata": {
    "id": "VWZtYBCvAoWQ"
   },
   "outputs": [
    {
     "name": "stdout",
     "output_type": "stream",
     "text": [
      "Epoch=1 loss=1.2073\n",
      "Epoch=2 loss=0.4949\n",
      "Epoch=3 loss=0.3721\n",
      "Epoch=4 loss=0.3059\n",
      "Epoch=5 loss=0.2626\n",
      "Epoch=6 loss=0.2301\n",
      "Epoch=7 loss=0.2028\n",
      "Epoch=8 loss=0.1789\n",
      "Epoch=9 loss=0.1603\n",
      "Epoch=10 loss=0.1426\n"
     ]
    }
   ],
   "source": [
    "fc_net = FCNet()\n",
    "loss_function = nn.CrossEntropyLoss()\n",
    "lr = 0.001\n",
    "optimizer = torch.optim.Adam(fc_net.parameters(), lr=3e-4)\n",
    "n_epochs = 10\n",
    "loss_history = []\n",
    "\n",
    "for epoch in range(n_epochs):\n",
    "    epoch_loss = 0\n",
    "    for images, labels in trainloader:\n",
    "        optimizer.zero_grad()\n",
    "        outputs = fc_net(images)\n",
    "        loss = loss_function(outputs, labels)\n",
    "        loss.backward()\n",
    "        optimizer.step()\n",
    "        epoch_loss += loss.item()\n",
    "        \n",
    "    loss_history.append(epoch_loss/len(trainloader))\n",
    "\n",
    "    print(f\"Epoch={epoch+1} loss={loss_history[epoch]:.4f}\")\n"
   ]
  },
  {
   "cell_type": "code",
   "execution_count": 16,
   "metadata": {
    "id": "Gfbv9OIAAoYT"
   },
   "outputs": [
    {
     "data": {
      "text/plain": [
       "0.8699"
      ]
     },
     "execution_count": 16,
     "metadata": {},
     "output_type": "execute_result"
    }
   ],
   "source": [
    "get_accuracy(fc_net, testloader)"
   ]
  },
  {
   "cell_type": "markdown",
   "metadata": {
    "id": "RcIJvhWkcjlh"
   },
   "source": [
    "Как изменилась `accuracy` после нормализации?"
   ]
  },
  {
   "cell_type": "markdown",
   "metadata": {
    "id": "G1LHKF2PsZ4U"
   },
   "source": [
    "После нормализации accuracy немного выросла)"
   ]
  },
  {
   "cell_type": "markdown",
   "metadata": {
    "id": "atcfzu4acxP2"
   },
   "source": [
    "### Задание 5. Изучение влияния функции активации\n",
    "\n",
    "**3** балла\n",
    "\n",
    "Исследуйте влияние функций активации на скорость обучения и точность предсказаний модели.\n",
    "\n",
    "Используйте три функции:\n",
    "\n",
    "* [Sigmoid](https://pytorch.org/docs/stable/nn.functional.html#sigmoid)\n",
    "* [GELU](https://pytorch.org/docs/stable/nn.functional.html#gelu)\n",
    "* [Tanh](https://pytorch.org/docs/stable/generated/torch.nn.Tanh.html#torch.nn.Tanh)"
   ]
  },
  {
   "cell_type": "markdown",
   "metadata": {},
   "source": [
    "Ну, тут дальше много некрасивого кода) Но оно всё работает) Возьмём модели трёх классов и все их обучим)"
   ]
  },
  {
   "cell_type": "code",
   "execution_count": 17,
   "metadata": {
    "id": "bAESPpjGa3M1"
   },
   "outputs": [],
   "source": [
    "class FCNetSigmoid(nn.Module):\n",
    "    def __init__(self):\n",
    "        super().__init__()\n",
    "        input_size = 28*28\n",
    "        self.fc1 = nn.Linear(input_size, 256)\n",
    "        self.fc2 = nn.Linear(256, 128)\n",
    "        self.fc3 = nn.Linear(128, 10)\n",
    "        \n",
    "\n",
    "    def forward(self, x):  # Forward вызывается внутри метода __call__ родительского класса\n",
    "        ## x -> тензор размерности (BATCH_SIZE, N_CHANNELS, WIDTH, HEIGHT)\n",
    "        \n",
    "        x = x.view(-1, 28*28)\n",
    "        x = F.sigmoid(self.fc1(x))\n",
    "        x = F.sigmoid(self.fc2(x))\n",
    "        x = self.fc3(x)\n",
    "        logits = x\n",
    "        \n",
    "        return logits\n",
    "\n",
    "class FCNetGelu(nn.Module):\n",
    "    def __init__(self):\n",
    "        super().__init__()\n",
    "        input_size = 28*28\n",
    "        self.fc1 = nn.Linear(input_size, 256)\n",
    "        self.fc2 = nn.Linear(256, 128)\n",
    "        self.fc3 = nn.Linear(128, 10)\n",
    "        \n",
    "\n",
    "    def forward(self, x):  # Forward вызывается внутри метода __call__ родительского класса\n",
    "        ## x -> тензор размерности (BATCH_SIZE, N_CHANNELS, WIDTH, HEIGHT)\n",
    "        \n",
    "        x = x.view(-1, 28*28)\n",
    "        x = F.gelu(self.fc1(x))\n",
    "        x = F.gelu(self.fc2(x))\n",
    "        x = self.fc3(x)\n",
    "        logits = x\n",
    "        \n",
    "        return logits\n",
    "    \n",
    "class FCNetTanh(nn.Module):\n",
    "    def __init__(self):\n",
    "        super().__init__()\n",
    "        input_size = 28*28\n",
    "        self.fc1 = nn.Linear(input_size, 256)\n",
    "        self.fc2 = nn.Linear(256, 128)\n",
    "        self.fc3 = nn.Linear(128, 10)\n",
    "        \n",
    "\n",
    "    def forward(self, x):  # Forward вызывается внутри метода __call__ родительского класса\n",
    "        ## x -> тензор размерности (BATCH_SIZE, N_CHANNELS, WIDTH, HEIGHT)\n",
    "        \n",
    "        x = x.view(-1, 28*28)\n",
    "        x = F.tanh(self.fc1(x))\n",
    "        x = F.tanh(self.fc2(x))\n",
    "        x = self.fc3(x)\n",
    "        logits = x\n",
    "        \n",
    "        return logits"
   ]
  },
  {
   "cell_type": "code",
   "execution_count": 18,
   "metadata": {},
   "outputs": [],
   "source": [
    "fc_net_sigmoid = FCNetSigmoid()\n",
    "fc_net_gelu=FCNetGelu()\n",
    "fc_net_tanh=FCNetTanh()\n",
    "\n",
    "optimizer_sigmoid = torch.optim.Adam(fc_net_sigmoid.parameters(), lr=3e-4)\n",
    "optimizer_gelu = torch.optim.Adam(fc_net_gelu.parameters(), lr=3e-4)\n",
    "optimizer_tanh = torch.optim.Adam(fc_net_tanh.parameters(), lr=3e-4)"
   ]
  },
  {
   "cell_type": "code",
   "execution_count": 19,
   "metadata": {
    "id": "GdvHSFeKa2sW"
   },
   "outputs": [
    {
     "name": "stdout",
     "output_type": "stream",
     "text": [
      "Epoch =1 loss sigmoid=2.1058\n",
      "Epoch=1 loss gelu=1.1954\n",
      "Epoch=1 loss tanh=1.2197\n",
      "Epoch =2 loss sigmoid=1.5823\n",
      "Epoch=2 loss gelu=0.4681\n",
      "Epoch=2 loss tanh=0.6449\n",
      "Epoch =3 loss sigmoid=1.1567\n",
      "Epoch=3 loss gelu=0.3469\n",
      "Epoch=3 loss tanh=0.5056\n",
      "Epoch =4 loss sigmoid=0.8970\n",
      "Epoch=4 loss gelu=0.2844\n",
      "Epoch=4 loss tanh=0.4131\n",
      "Epoch =5 loss sigmoid=0.7438\n",
      "Epoch=5 loss gelu=0.2406\n",
      "Epoch=5 loss tanh=0.3414\n",
      "Epoch =6 loss sigmoid=0.6465\n",
      "Epoch=6 loss gelu=0.2082\n",
      "Epoch=6 loss tanh=0.2869\n",
      "Epoch =7 loss sigmoid=0.5782\n",
      "Epoch=7 loss gelu=0.1806\n",
      "Epoch=7 loss tanh=0.2423\n",
      "Epoch =8 loss sigmoid=0.5252\n",
      "Epoch=8 loss gelu=0.1592\n",
      "Epoch=8 loss tanh=0.2068\n",
      "Epoch =9 loss sigmoid=0.4829\n",
      "Epoch=9 loss gelu=0.1404\n",
      "Epoch=9 loss tanh=0.1777\n",
      "Epoch =10 loss sigmoid=0.4467\n",
      "Epoch=10 loss gelu=0.1246\n",
      "Epoch=10 loss tanh=0.1524\n"
     ]
    }
   ],
   "source": [
    "n_epochs = 10\n",
    "loss_history_sigmoid = []\n",
    "loss_history_gelu = []\n",
    "loss_history_tanh = []\n",
    "\n",
    "\n",
    "for epoch in range(n_epochs):\n",
    "    epoch_loss_sigmoid = 0\n",
    "    epoch_loss_gelu = 0\n",
    "    epoch_loss_tanh = 0\n",
    "    \n",
    "    for images, labels in trainloader:\n",
    "        \n",
    "        optimizer_sigmoid.zero_grad()\n",
    "        optimizer_gelu.zero_grad()\n",
    "        optimizer_tanh.zero_grad()\n",
    "        \n",
    "        outputs_sigmoid = fc_net_sigmoid(images)\n",
    "        outputs_gelu = fc_net_gelu(images)\n",
    "        outputs_tanh = fc_net_tanh(images)\n",
    "        \n",
    "        loss_sigmoid = loss_function(outputs_sigmoid, labels)\n",
    "        loss_gelu = loss_function(outputs_gelu, labels)\n",
    "        loss_tanh = loss_function(outputs_tanh, labels)\n",
    "        \n",
    "        loss_sigmoid.backward()\n",
    "        loss_gelu.backward()\n",
    "        loss_tanh.backward()\n",
    "        \n",
    "        optimizer_sigmoid.step()\n",
    "        optimizer_gelu.step()\n",
    "        optimizer_tanh.step()\n",
    "        \n",
    "        epoch_loss_sigmoid += loss_sigmoid.item()\n",
    "        epoch_loss_gelu += loss_gelu.item()\n",
    "        epoch_loss_tanh += loss_tanh.item()\n",
    "\n",
    "    loss_history_sigmoid.append(epoch_loss_sigmoid/len(trainloader))\n",
    "    loss_history_gelu.append(epoch_loss_gelu/len(trainloader))\n",
    "    loss_history_tanh.append(epoch_loss_tanh/len(trainloader))\n",
    "\n",
    "    print(f\"Epoch ={epoch+1} loss sigmoid={loss_history_sigmoid[epoch]:.4f}\")\n",
    "    print(f\"Epoch={epoch+1} loss gelu={loss_history_gelu[epoch]:.4f}\")\n",
    "    print(f\"Epoch={epoch+1} loss tanh={loss_history_tanh[epoch]:.4f}\")\n"
   ]
  },
  {
   "cell_type": "code",
   "execution_count": 20,
   "metadata": {
    "id": "zBok8pXNa2vA"
   },
   "outputs": [],
   "source": [
    "sigmoid_acc = get_accuracy(fc_net_sigmoid, testloader)\n",
    "gelu_acc = get_accuracy(fc_net_gelu, testloader)\n",
    "tanh_acc = get_accuracy(fc_net_tanh, testloader)"
   ]
  },
  {
   "cell_type": "code",
   "execution_count": 21,
   "metadata": {},
   "outputs": [
    {
     "name": "stdout",
     "output_type": "stream",
     "text": [
      "sigmoid accuracy =  0.7545\n",
      "sigmoid accuracy =  0.8754\n",
      "sigmoid accuracy =  0.8701\n"
     ]
    }
   ],
   "source": [
    "print(\"sigmoid accuracy = \", sigmoid_acc)\n",
    "print(\"sigmoid accuracy = \", gelu_acc)\n",
    "print(\"sigmoid accuracy = \", tanh_acc)"
   ]
  },
  {
   "cell_type": "markdown",
   "metadata": {
    "id": "aG2Oyxy2egVV"
   },
   "source": [
    "С использованием какой функции активации удалось досчить наибольшей `accuracy`?"
   ]
  },
  {
   "cell_type": "markdown",
   "metadata": {
    "id": "5SaqWhlkjuO3"
   },
   "source": [
    "Наибольшая точность достигнута при активационной функции gelu) Выглядит она довольно страшно, а выигрыш относительно \"простой\" Relu незначительный... Сигмоида оказалась худшей из представленного списка...Ну и скорость обучения визуально лучше у gelu (производная не строилась :))"
   ]
  },
  {
   "cell_type": "markdown",
   "metadata": {
    "id": "20Ls3Bfsifqd"
   },
   "source": [
    "### Задание 6. Другие оптимизаторы\n",
    "\n",
    "**4** балла\n",
    "\n",
    "Исследуйте влияние оптимизаторов на скорость обучения и точность предсказаний модели.\n",
    "\n",
    "Попробуйте следующие:\n",
    "\n",
    "* [Adam](https://pytorch.org/docs/stable/generated/torch.optim.Adam.html#torch.optim.Adam)\n",
    "* [RMSprop](https://pytorch.org/docs/stable/generated/torch.optim.RMSprop.html#torch.optim.RMSprop)\n",
    "* [Adagrad](https://pytorch.org/docs/stable/generated/torch.optim.Adagrad.html#torch.optim.Adagrad)\n",
    "\n",
    "Вам нужно снова обучить 3 модели и сравнить их перформанс (функцию активации используйте ту, которая показала себя лучше всего)."
   ]
  },
  {
   "cell_type": "code",
   "execution_count": 25,
   "metadata": {
    "id": "rzL2LdA-ifJh"
   },
   "outputs": [
    {
     "name": "stdout",
     "output_type": "stream",
     "text": [
      "Epoch =1 loss Adam=1.1974\n",
      "Epoch=1 loss RMSprop=0.6367\n",
      "Epoch=1 loss Adagrad=1.8154\n",
      "Epoch =2 loss Adam=0.4847\n",
      "Epoch=2 loss RMSprop=0.3346\n",
      "Epoch=2 loss Adagrad=1.2365\n",
      "Epoch =3 loss Adam=0.3611\n",
      "Epoch=3 loss RMSprop=0.2654\n",
      "Epoch=3 loss Adagrad=0.9890\n",
      "Epoch =4 loss Adam=0.2936\n",
      "Epoch=4 loss RMSprop=0.2216\n",
      "Epoch=4 loss Adagrad=0.8587\n",
      "Epoch =5 loss Adam=0.2495\n",
      "Epoch=5 loss RMSprop=0.1886\n",
      "Epoch=5 loss Adagrad=0.7771\n",
      "Epoch =6 loss Adam=0.2152\n",
      "Epoch=6 loss RMSprop=0.1642\n",
      "Epoch=6 loss Adagrad=0.7219\n",
      "Epoch =7 loss Adam=0.1871\n",
      "Epoch=7 loss RMSprop=0.1439\n",
      "Epoch=7 loss Adagrad=0.6806\n",
      "Epoch =8 loss Adam=0.1638\n",
      "Epoch=8 loss RMSprop=0.1267\n",
      "Epoch=8 loss Adagrad=0.6488\n",
      "Epoch =9 loss Adam=0.1447\n",
      "Epoch=9 loss RMSprop=0.1125\n",
      "Epoch=9 loss Adagrad=0.6229\n",
      "Epoch =10 loss Adam=0.1291\n",
      "Epoch=10 loss RMSprop=0.0989\n",
      "Epoch=10 loss Adagrad=0.6016\n"
     ]
    }
   ],
   "source": [
    "fc_net_Adam = FCNetGelu()\n",
    "fc_net_RMSprop = FCNetGelu()\n",
    "fc_net_Adagrad = FCNetGelu()\n",
    "\n",
    "optimizer_gelu_Adam = torch.optim.Adam(fc_net_Adam.parameters(), lr=3e-4)\n",
    "optimizer_gelu_RMSprop = torch.optim.RMSprop(fc_net_RMSprop.parameters(), lr=3e-4)\n",
    "optimizer_gelu_Adagrad = torch.optim.Adagrad(fc_net_Adagrad.parameters(), lr=3e-4)\n",
    "\n",
    "n_epochs = 10\n",
    "loss_history_Adam = []\n",
    "loss_history_RMSprop = []\n",
    "loss_history_Adagrad = []\n",
    "\n",
    "for epoch in range(n_epochs):\n",
    "    epoch_loss_Adam = 0\n",
    "    epoch_loss_RMSprop = 0\n",
    "    epoch_loss_Adagrad = 0\n",
    "    \n",
    "    for images, labels in trainloader:\n",
    "        \n",
    "        optimizer_gelu_Adam.zero_grad()\n",
    "        optimizer_gelu_RMSprop.zero_grad()\n",
    "        optimizer_gelu_Adagrad.zero_grad()\n",
    "        \n",
    "        outputs_gelu_Adam = fc_net_Adam(images)\n",
    "        outputs_gelu_RMSprop = fc_net_RMSprop(images)\n",
    "        outputs_gelu_Adagrad = fc_net_Adagrad(images)\n",
    "        \n",
    "        loss_gelu_Adam = loss_function(outputs_gelu_Adam, labels)\n",
    "        loss_gelu_RMSprop = loss_function(outputs_gelu_RMSprop, labels)\n",
    "        loss_gelu_Adagrad = loss_function(outputs_gelu_Adagrad, labels)\n",
    "        \n",
    "        loss_gelu_Adam.backward()\n",
    "        loss_gelu_RMSprop.backward()\n",
    "        loss_gelu_Adagrad.backward()\n",
    "        \n",
    "        optimizer_gelu_Adam.step()\n",
    "        optimizer_gelu_RMSprop.step()\n",
    "        optimizer_gelu_Adagrad.step()\n",
    "        \n",
    "        epoch_loss_Adam += loss_gelu_Adam.item()\n",
    "        epoch_loss_RMSprop += loss_gelu_RMSprop.item()\n",
    "        epoch_loss_Adagrad += loss_gelu_Adagrad.item()\n",
    "        \n",
    "    loss_history_Adam.append(epoch_loss_Adam/len(trainloader))\n",
    "    loss_history_RMSprop.append(epoch_loss_RMSprop/len(trainloader))\n",
    "    loss_history_Adagrad.append(epoch_loss_Adagrad/len(trainloader))\n",
    "\n",
    "    print(f\"Epoch ={epoch+1} loss Adam={loss_history_Adam[epoch]:.4f}\")\n",
    "    print(f\"Epoch={epoch+1} loss RMSprop={loss_history_RMSprop[epoch]:.4f}\")\n",
    "    print(f\"Epoch={epoch+1} loss Adagrad={loss_history_Adagrad[epoch]:.4f}\")"
   ]
  },
  {
   "cell_type": "code",
   "execution_count": 28,
   "metadata": {},
   "outputs": [
    {
     "name": "stdout",
     "output_type": "stream",
     "text": [
      "Adam accuracy =  0.8803\n",
      "RMSprop accuracy =  0.883\n",
      "Adagrad accuracy =  0.684\n"
     ]
    }
   ],
   "source": [
    "Adam_acc = get_accuracy(fc_net_Adam, testloader)\n",
    "RMSprop_acc = get_accuracy(fc_net_RMSprop, testloader)\n",
    "Adagrad_acc = get_accuracy(fc_net_Adagrad, testloader)\n",
    "print(\"Adam accuracy = \", Adam_acc)\n",
    "print(\"RMSprop accuracy = \", RMSprop_acc)\n",
    "print(\"Adagrad accuracy = \", Adagrad_acc)"
   ]
  },
  {
   "cell_type": "markdown",
   "metadata": {},
   "source": [
    "Adam и RMSprop имеют практически одинаковый перфоманс."
   ]
  },
  {
   "cell_type": "markdown",
   "metadata": {
    "id": "eHA48PsperxS"
   },
   "source": [
    "### Задание 7. Реализация ReLU\n",
    "\n",
    "**4** балла\n",
    "\n",
    "Самостоятельно реализуйте функцию активации ReLU.\n",
    "Замените в уже обученной модели функцию активации на вашу. Убедитесь что ничего не изменилась."
   ]
  },
  {
   "cell_type": "code",
   "execution_count": 124,
   "metadata": {},
   "outputs": [],
   "source": [
    "def CustomReluFunction(x):\n",
    "    x[x < 0] = 0\n",
    "    return x"
   ]
  },
  {
   "cell_type": "code",
   "execution_count": 125,
   "metadata": {},
   "outputs": [
    {
     "name": "stdout",
     "output_type": "stream",
     "text": [
      "tensor([[1.1966, 0.0000, 1.5110]]) tensor([[1.1966, 0.0000, 1.5110]])\n"
     ]
    }
   ],
   "source": [
    "a = torch.randn(1, 3)\n",
    "reludef = F.relu(a)\n",
    "relucustom = CustomReluFunction(a)\n",
    "print(reludef, relucustom)"
   ]
  },
  {
   "cell_type": "markdown",
   "metadata": {},
   "source": [
    "На уровне операций с тензором ничего не поменялось."
   ]
  },
  {
   "cell_type": "code",
   "execution_count": 129,
   "metadata": {
    "id": "63uTkUp-a2xr"
   },
   "outputs": [],
   "source": [
    "class CustomReLU(nn.Module):     \n",
    "    def __init__(self):\n",
    "        super().__init__()\n",
    "        input_size = 28*28\n",
    "        self.fc1 = nn.Linear(input_size, 256)\n",
    "        self.fc2 = nn.Linear(256, 128)\n",
    "        self.fc3 = nn.Linear(128, 10)\n",
    "\n",
    "    def forward(self, x):  # Forward вызывается внутри метода __call__ родительского класса\n",
    "        ## x -> тензор размерности (BATCH_SIZE, N_CHANNELS, WIDTH, HEIGHT)\n",
    "\n",
    "        x = x.view(-1, 28*28)\n",
    "        x = self.fc1(x)\n",
    "        x = CustomReluFunction(x)\n",
    "        x = self.fc2(x)\n",
    "        x = CustomReluFunction(x)\n",
    "        x = self.fc3(x)\n",
    "        logits = x\n",
    "        \n",
    "        return logits"
   ]
  },
  {
   "cell_type": "markdown",
   "metadata": {
    "id": "xsKzxa33fhbN"
   },
   "source": [
    "Заново обучите модель и проверьте правильность реализации `CustomReLU`."
   ]
  },
  {
   "cell_type": "code",
   "execution_count": 130,
   "metadata": {
    "id": "ePP55RBeecYh"
   },
   "outputs": [
    {
     "name": "stdout",
     "output_type": "stream",
     "text": [
      "Epoch=1 custom loss=1.2053\n",
      "default loss=1.2278\n",
      "Epoch=2 custom loss=0.4929\n",
      "default loss=0.4892\n",
      "Epoch=3 custom loss=0.3706\n",
      "default loss=0.3690\n",
      "Epoch=4 custom loss=0.3047\n",
      "default loss=0.3055\n",
      "Epoch=5 custom loss=0.2608\n",
      "default loss=0.2626\n",
      "Epoch=6 custom loss=0.2281\n",
      "default loss=0.2305\n",
      "Epoch=7 custom loss=0.2002\n",
      "default loss=0.2024\n",
      "Epoch=8 custom loss=0.1779\n",
      "default loss=0.1803\n",
      "Epoch=9 custom loss=0.1578\n",
      "default loss=0.1603\n",
      "Epoch=10 custom loss=0.1407\n",
      "default loss=0.1426\n"
     ]
    }
   ],
   "source": [
    "fc_net_custom = CustomReLU()\n",
    "fc_net = FCNet()\n",
    "\n",
    "loss_function = nn.CrossEntropyLoss()\n",
    "optimizer_custom = torch.optim.Adam(fc_net_custom.parameters(), lr=3e-4)\n",
    "optimizer_def = torch.optim.Adam(fc_net.parameters(), lr=3e-4)\n",
    "\n",
    "n_epochs = 10\n",
    "loss_history_custom = []\n",
    "loss_history_def = []\n",
    "\n",
    "for epoch in range(n_epochs):\n",
    "    epoch_loss_custom = 0\n",
    "    epoch_loss_def = 0\n",
    "    \n",
    "    for images, labels in trainloader:\n",
    "        optimizer_custom.zero_grad()\n",
    "        optimizer_def.zero_grad()\n",
    "        \n",
    "        outputs_custom = fc_net_custom(images)\n",
    "        outputs_def = fc_net(images)\n",
    "        \n",
    "        loss_custom = loss_function(outputs_custom, labels)\n",
    "        loss_def = loss_function(outputs_def, labels)\n",
    "        \n",
    "        loss_custom.backward()\n",
    "        loss_def.backward()\n",
    "        \n",
    "        optimizer_custom.step()\n",
    "        optimizer_def.step()\n",
    "        \n",
    "        epoch_loss_custom += loss_custom.item()\n",
    "        epoch_loss_def+= loss_def.item()\n",
    "        \n",
    "    loss_history_custom.append(epoch_loss_custom/len(trainloader))\n",
    "    loss_history_def.append(epoch_loss_def/len(trainloader))\n",
    "\n",
    "    print(f\"Epoch={epoch+1} custom loss={loss_history_custom[epoch]:.4f}\")\n",
    "    print(f\"default loss={loss_history_def[epoch]:.4f}\")"
   ]
  },
  {
   "cell_type": "markdown",
   "metadata": {},
   "source": [
    "Различия скорее всего обучловлены различным объявлением начальных весов."
   ]
  },
  {
   "cell_type": "code",
   "execution_count": 131,
   "metadata": {},
   "outputs": [
    {
     "name": "stdout",
     "output_type": "stream",
     "text": [
      "0.8714\n",
      "0.8703\n"
     ]
    }
   ],
   "source": [
    "print(get_accuracy(fc_net, testloader))\n",
    "print(get_accuracy(fc_net_custom, testloader))"
   ]
  },
  {
   "cell_type": "markdown",
   "metadata": {
    "id": "vWBG1mMwgN17"
   },
   "source": [
    "### Задание 8. Генерация картинок\n",
    "\n",
    "**3** балла\n",
    "\n",
    "Так как вы снова работаете в командах, то придумайте 3 предложения и сгенерируйте при помощи них 3 картинки, используя телеграм бота [ruDALLE](https://t.me/sber_rudalle_xl_bot). Прикрепите сюда ваши картины."
   ]
  },
  {
   "cell_type": "code",
   "execution_count": null,
   "metadata": {
    "id": "hlqgll9qecdZ"
   },
   "outputs": [],
   "source": []
  },
  {
   "cell_type": "code",
   "execution_count": null,
   "metadata": {},
   "outputs": [],
   "source": []
  },
  {
   "cell_type": "code",
   "execution_count": null,
   "metadata": {},
   "outputs": [],
   "source": []
  }
 ],
 "metadata": {
  "colab": {
   "authorship_tag": "ABX9TyNNR6Jf1C4Xx0J5iQF4rOen",
   "collapsed_sections": [],
   "include_colab_link": true,
   "name": "FC_NN_practice.ipynb",
   "provenance": []
  },
  "kernelspec": {
   "display_name": "Python 3 (ipykernel)",
   "language": "python",
   "name": "python3"
  },
  "language_info": {
   "codemirror_mode": {
    "name": "ipython",
    "version": 3
   },
   "file_extension": ".py",
   "mimetype": "text/x-python",
   "name": "python",
   "nbconvert_exporter": "python",
   "pygments_lexer": "ipython3",
   "version": "3.10.9"
  }
 },
 "nbformat": 4,
 "nbformat_minor": 1
}
